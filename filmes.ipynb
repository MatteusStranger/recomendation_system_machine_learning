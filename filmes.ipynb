{
  "nbformat": 4,
  "nbformat_minor": 0,
  "metadata": {
    "colab": {
      "name": "filmes.ipynb",
      "provenance": [],
      "authorship_tag": "ABX9TyP3aKJI/voI0zxvMERU4LtX",
      "include_colab_link": true
    },
    "kernelspec": {
      "name": "python3",
      "display_name": "Python 3"
    }
  },
  "cells": [
    {
      "cell_type": "markdown",
      "metadata": {
        "id": "view-in-github",
        "colab_type": "text"
      },
      "source": [
        "<a href=\"https://colab.research.google.com/github/MatteusStranger/recomendation_system_machine_learning/blob/master/filmes.ipynb\" target=\"_parent\"><img src=\"https://colab.research.google.com/assets/colab-badge.svg\" alt=\"Open In Colab\"/></a>"
      ]
    },
    {
      "cell_type": "code",
      "metadata": {
        "id": "SqTHDPogXFve",
        "colab_type": "code",
        "colab": {}
      },
      "source": [
        "import pandas as pd\n",
        "\n",
        "uri_filmes = 'https://raw.githubusercontent.com/alura-cursos/machine-learning-algoritmos-nao-supervisionados/master/movies.csv'\n",
        "filmes = pd.read_csv(uri_filmes)\n",
        "\n",
        "\n",
        "filmes.columns = ['filme_id','titulo','generos']\n",
        "filmes.head()"
      ],
      "execution_count": null,
      "outputs": []
    },
    {
      "cell_type": "code",
      "metadata": {
        "id": "kBlqUsDFXUrc",
        "colab_type": "code",
        "colab": {}
      },
      "source": [
        "generos = filmes.generos.str.get_dummies()\n",
        "dados_dos_filmes = pd.concat([filmes,generos],axis=1)\n",
        "dados_dos_filmes.head()"
      ],
      "execution_count": null,
      "outputs": []
    },
    {
      "cell_type": "code",
      "metadata": {
        "id": "UMtCFRDYv5O_",
        "colab_type": "code",
        "colab": {}
      },
      "source": [
        "from sklearn.preprocessing import StandardScaler\n",
        "\n",
        "scaler = StandardScaler()\n",
        "generos_escalados = scaler.fit_transform(generos)\n",
        "generos_escalados.shape"
      ],
      "execution_count": null,
      "outputs": []
    },
    {
      "cell_type": "code",
      "metadata": {
        "id": "rZFwRMbyxlU0",
        "colab_type": "code",
        "colab": {
          "base_uri": "https://localhost:8080/",
          "height": 34
        },
        "outputId": "a297e752-dca7-4036-965e-72334470426e"
      },
      "source": [
        "from sklearn.cluster import KMeans\n",
        "\n",
        "modelo = KMeans(n_clusters=3)\n",
        "modelo.fit(generos_escalados)\n",
        "print(f'Grupos: {modelo.labels_}')"
      ],
      "execution_count": 21,
      "outputs": [
        {
          "output_type": "stream",
          "text": [
            "Grupos: [2 2 0 ... 0 1 0]\n"
          ],
          "name": "stdout"
        }
      ]
    },
    {
      "cell_type": "code",
      "metadata": {
        "id": "mXYyem0Yyp7C",
        "colab_type": "code",
        "colab": {}
      },
      "source": [
        "print(generos.columns)\n",
        "print(modelo.cluster_centers_)"
      ],
      "execution_count": null,
      "outputs": []
    },
    {
      "cell_type": "code",
      "metadata": {
        "id": "TDgz4s7W3GGV",
        "colab_type": "code",
        "colab": {
          "base_uri": "https://localhost:8080/",
          "height": 191
        },
        "outputId": "ffbe116b-501e-444c-a980-72d8ec959aa7"
      },
      "source": [
        "pd.DataFrame(modelo.cluster_centers_,columns=generos.columns)"
      ],
      "execution_count": 24,
      "outputs": [
        {
          "output_type": "execute_result",
          "data": {
            "text/html": [
              "<div>\n",
              "<style scoped>\n",
              "    .dataframe tbody tr th:only-of-type {\n",
              "        vertical-align: middle;\n",
              "    }\n",
              "\n",
              "    .dataframe tbody tr th {\n",
              "        vertical-align: top;\n",
              "    }\n",
              "\n",
              "    .dataframe thead th {\n",
              "        text-align: right;\n",
              "    }\n",
              "</style>\n",
              "<table border=\"1\" class=\"dataframe\">\n",
              "  <thead>\n",
              "    <tr style=\"text-align: right;\">\n",
              "      <th></th>\n",
              "      <th>(no genres listed)</th>\n",
              "      <th>Action</th>\n",
              "      <th>Adventure</th>\n",
              "      <th>Animation</th>\n",
              "      <th>Children</th>\n",
              "      <th>Comedy</th>\n",
              "      <th>Crime</th>\n",
              "      <th>Documentary</th>\n",
              "      <th>Drama</th>\n",
              "      <th>Fantasy</th>\n",
              "      <th>Film-Noir</th>\n",
              "      <th>Horror</th>\n",
              "      <th>IMAX</th>\n",
              "      <th>Musical</th>\n",
              "      <th>Mystery</th>\n",
              "      <th>Romance</th>\n",
              "      <th>Sci-Fi</th>\n",
              "      <th>Thriller</th>\n",
              "      <th>War</th>\n",
              "      <th>Western</th>\n",
              "    </tr>\n",
              "  </thead>\n",
              "  <tbody>\n",
              "    <tr>\n",
              "      <th>0</th>\n",
              "      <td>0.01700</td>\n",
              "      <td>-0.186842</td>\n",
              "      <td>-0.294688</td>\n",
              "      <td>-0.204725</td>\n",
              "      <td>-0.270451</td>\n",
              "      <td>0.044028</td>\n",
              "      <td>0.071419</td>\n",
              "      <td>0.060568</td>\n",
              "      <td>0.141154</td>\n",
              "      <td>-0.177891</td>\n",
              "      <td>0.021650</td>\n",
              "      <td>-0.023634</td>\n",
              "      <td>-0.118982</td>\n",
              "      <td>-0.022850</td>\n",
              "      <td>0.008912</td>\n",
              "      <td>0.078242</td>\n",
              "      <td>-0.333117</td>\n",
              "      <td>-0.014804</td>\n",
              "      <td>0.022633</td>\n",
              "      <td>0.010452</td>\n",
              "    </tr>\n",
              "    <tr>\n",
              "      <th>1</th>\n",
              "      <td>-0.05918</td>\n",
              "      <td>1.090329</td>\n",
              "      <td>1.036729</td>\n",
              "      <td>0.103117</td>\n",
              "      <td>-0.262098</td>\n",
              "      <td>-0.397076</td>\n",
              "      <td>-0.212289</td>\n",
              "      <td>-0.210731</td>\n",
              "      <td>-0.442997</td>\n",
              "      <td>0.401159</td>\n",
              "      <td>-0.065088</td>\n",
              "      <td>0.282421</td>\n",
              "      <td>0.521609</td>\n",
              "      <td>-0.165279</td>\n",
              "      <td>0.018448</td>\n",
              "      <td>-0.281471</td>\n",
              "      <td>1.816610</td>\n",
              "      <td>0.324424</td>\n",
              "      <td>-0.024862</td>\n",
              "      <td>-0.018532</td>\n",
              "    </tr>\n",
              "    <tr>\n",
              "      <th>2</th>\n",
              "      <td>-0.05918</td>\n",
              "      <td>-0.186518</td>\n",
              "      <td>1.005158</td>\n",
              "      <td>1.872390</td>\n",
              "      <td>3.231327</td>\n",
              "      <td>0.310583</td>\n",
              "      <td>-0.317736</td>\n",
              "      <td>-0.211060</td>\n",
              "      <td>-0.583419</td>\n",
              "      <td>1.034220</td>\n",
              "      <td>-0.094926</td>\n",
              "      <td>-0.298514</td>\n",
              "      <td>0.209835</td>\n",
              "      <td>0.545325</td>\n",
              "      <td>-0.125147</td>\n",
              "      <td>-0.255056</td>\n",
              "      <td>-0.090309</td>\n",
              "      <td>-0.467644</td>\n",
              "      <td>-0.181384</td>\n",
              "      <td>-0.070350</td>\n",
              "    </tr>\n",
              "  </tbody>\n",
              "</table>\n",
              "</div>"
            ],
            "text/plain": [
              "   (no genres listed)    Action  Adventure  ...  Thriller       War   Western\n",
              "0             0.01700 -0.186842  -0.294688  ... -0.014804  0.022633  0.010452\n",
              "1            -0.05918  1.090329   1.036729  ...  0.324424 -0.024862 -0.018532\n",
              "2            -0.05918 -0.186518   1.005158  ... -0.467644 -0.181384 -0.070350\n",
              "\n",
              "[3 rows x 20 columns]"
            ]
          },
          "metadata": {
            "tags": []
          },
          "execution_count": 24
        }
      ]
    },
    {
      "cell_type": "code",
      "metadata": {
        "id": "8O7qZLbo3Vtj",
        "colab_type": "code",
        "colab": {}
      },
      "source": [
        ""
      ],
      "execution_count": null,
      "outputs": []
    }
  ]
}