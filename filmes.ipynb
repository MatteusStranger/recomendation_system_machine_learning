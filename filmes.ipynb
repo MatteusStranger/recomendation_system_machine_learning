{
  "nbformat": 4,
  "nbformat_minor": 0,
  "metadata": {
    "colab": {
      "name": "filmes.ipynb",
      "provenance": [],
      "authorship_tag": "ABX9TyPaoxgJp5a2qR/u1nGki9Gg",
      "include_colab_link": true
    },
    "kernelspec": {
      "name": "python3",
      "display_name": "Python 3"
    }
  },
  "cells": [
    {
      "cell_type": "markdown",
      "metadata": {
        "id": "view-in-github",
        "colab_type": "text"
      },
      "source": [
        "<a href=\"https://colab.research.google.com/github/MatteusStranger/recomendation_system_machine_learning/blob/master/filmes.ipynb\" target=\"_parent\"><img src=\"https://colab.research.google.com/assets/colab-badge.svg\" alt=\"Open In Colab\"/></a>"
      ]
    },
    {
      "cell_type": "code",
      "metadata": {
        "id": "SqTHDPogXFve",
        "colab_type": "code",
        "colab": {}
      },
      "source": [
        "import pandas as pd\n",
        "\n",
        "uri_filmes = 'https://raw.githubusercontent.com/alura-cursos/machine-learning-algoritmos-nao-supervisionados/master/movies.csv'\n",
        "filmes = pd.read_csv(uri_filmes)\n",
        "\n",
        "\n",
        "filmes.columns = ['filme_id','titulo','generos']\n",
        "filmes.head()"
      ],
      "execution_count": null,
      "outputs": []
    },
    {
      "cell_type": "code",
      "metadata": {
        "id": "kBlqUsDFXUrc",
        "colab_type": "code",
        "colab": {}
      },
      "source": [
        "generos = filmes.generos.str.get_dummies()\n",
        "dados_dos_filmes = pd.concat([filmes,generos],axis=1)\n",
        "dados_dos_filmes.head()"
      ],
      "execution_count": null,
      "outputs": []
    },
    {
      "cell_type": "code",
      "metadata": {
        "id": "UMtCFRDYv5O_",
        "colab_type": "code",
        "colab": {}
      },
      "source": [
        ""
      ],
      "execution_count": null,
      "outputs": []
    }
  ]
}